{
 "cells": [
  {
   "cell_type": "code",
   "execution_count": 1,
   "metadata": {},
   "outputs": [],
   "source": [
    "from typing import *\n",
    "\n",
    "import operator\n",
    "from itertools import groupby, product\n",
    "\n",
    "from toolz import itertoolz\n",
    "from toolz.utils import no_default\n",
    "\n",
    "from itertools import groupby, zip_longest"
   ]
  },
  {
   "cell_type": "markdown",
   "metadata": {},
   "source": [
    "## iter()"
   ]
  },
  {
   "cell_type": "code",
   "execution_count": 36,
   "metadata": {},
   "outputs": [],
   "source": [
    "x = ['a', 'b', 'c', 'd', 'e']"
   ]
  },
  {
   "cell_type": "code",
   "execution_count": 37,
   "metadata": {},
   "outputs": [],
   "source": [
    "xi = iter(x)"
   ]
  },
  {
   "cell_type": "code",
   "execution_count": 42,
   "metadata": {},
   "outputs": [
    {
     "name": "stdout",
     "output_type": "stream",
     "text": [
      "a\n",
      "b\n",
      "c\n",
      "d\n",
      "e\n"
     ]
    }
   ],
   "source": [
    "while True:\n",
    "    x = next(xi, None)\n",
    "    if x is not None:\n",
    "        print(x)\n",
    "    else:\n",
    "        break"
   ]
  },
  {
   "cell_type": "markdown",
   "metadata": {},
   "source": [
    "## itertools"
   ]
  },
  {
   "cell_type": "code",
   "execution_count": 44,
   "metadata": {},
   "outputs": [],
   "source": [
    "from itertools import takewhile, dropwhile, islice, zip_longest"
   ]
  },
  {
   "cell_type": "code",
   "execution_count": 25,
   "metadata": {},
   "outputs": [
    {
     "data": {
      "text/plain": [
       "[1, 2, 3, 4, 4]"
      ]
     },
     "execution_count": 25,
     "metadata": {},
     "output_type": "execute_result"
    }
   ],
   "source": [
    "[i for i in takewhile(lambda x: x<5, [ 1, 2, 3, 4, 4, 5, 3, 1, 2])]"
   ]
  },
  {
   "cell_type": "code",
   "execution_count": 28,
   "metadata": {},
   "outputs": [
    {
     "data": {
      "text/plain": [
       "[5, 3, 1, 2]"
      ]
     },
     "execution_count": 28,
     "metadata": {},
     "output_type": "execute_result"
    }
   ],
   "source": [
    "[i for i in dropwhile(lambda x: x<5, [ 1, 2, 3, 4, 4, 5, 3, 1, 2])]"
   ]
  },
  {
   "cell_type": "code",
   "execution_count": 33,
   "metadata": {},
   "outputs": [
    {
     "data": {
      "text/plain": [
       "[3, 4, 4, 5, 3, 1, 2]"
      ]
     },
     "execution_count": 33,
     "metadata": {},
     "output_type": "execute_result"
    }
   ],
   "source": [
    "[i for i in islice([ 1, 2, 3, 4, 4, 5, 3, 1, 2], 2, None)]"
   ]
  },
  {
   "cell_type": "code",
   "execution_count": 34,
   "metadata": {},
   "outputs": [
    {
     "data": {
      "text/plain": [
       "[3, 4, 4]"
      ]
     },
     "execution_count": 34,
     "metadata": {},
     "output_type": "execute_result"
    }
   ],
   "source": [
    "[i for i in islice([ 1, 2, 3, 4, 4, 5, 3, 1, 2], 2, 5)]"
   ]
  },
  {
   "cell_type": "code",
   "execution_count": 49,
   "metadata": {},
   "outputs": [
    {
     "data": {
      "text/plain": [
       "[('a', 'a'),\n",
       " ('b', 'a'),\n",
       " ('c', 'b'),\n",
       " ('d', 'b'),\n",
       " ('d', 'c'),\n",
       " ('d', 'c'),\n",
       " ('d', 'd'),\n",
       " ('d', 'd')]"
      ]
     },
     "execution_count": 49,
     "metadata": {},
     "output_type": "execute_result"
    }
   ],
   "source": [
    "[i for i in zip_longest('abc', 'aabbccdd', fillvalue='d')]"
   ]
  },
  {
   "cell_type": "code",
   "execution_count": 52,
   "metadata": {},
   "outputs": [
    {
     "name": "stdout",
     "output_type": "stream",
     "text": [
      "a [('a', 'a')]\n",
      "b [('b', 'a'), ('b', 'b')]\n",
      "a [('a', 'b'), ('a', 'c')]\n",
      "c [('c', 'c'), ('c', 'd'), ('c', 'd'), ('c', 'd')]\n"
     ]
    }
   ],
   "source": [
    "for k, g in groupby(zip_longest('abbaacccc', 'aabbccdd', fillvalue='d'), key=lambda x: x[0]):\n",
    "    print(k, list(g))"
   ]
  },
  {
   "cell_type": "markdown",
   "metadata": {},
   "source": [
    "## itertoolz"
   ]
  },
  {
   "cell_type": "code",
   "execution_count": 57,
   "metadata": {},
   "outputs": [],
   "source": [
    "friends = [('Alice', 'Edith'),('Alice', 'Zhao'),('Edith', 'Alice'),('Zhao', 'Alice'),('Zhao', 'Edith')]\n",
    "cities = [('Alice', 'NYC'),('Alice', 'Chicago'),('Dan', 'Syndey'),('Edith', 'Paris'),('Edith', 'Berlin'),('Zhao', 'Shanghai')]"
   ]
  },
  {
   "cell_type": "code",
   "execution_count": 58,
   "metadata": {},
   "outputs": [
    {
     "data": {
      "text/plain": [
       "[(('Edith', 'Alice'), ('Alice', 'NYC')),\n",
       " (('Zhao', 'Alice'), ('Alice', 'NYC')),\n",
       " (('Edith', 'Alice'), ('Alice', 'Chicago')),\n",
       " (('Zhao', 'Alice'), ('Alice', 'Chicago')),\n",
       " (('Alice', 'Edith'), ('Edith', 'Paris')),\n",
       " (('Zhao', 'Edith'), ('Edith', 'Paris')),\n",
       " (('Alice', 'Edith'), ('Edith', 'Berlin')),\n",
       " (('Zhao', 'Edith'), ('Edith', 'Berlin')),\n",
       " (('Alice', 'Zhao'), ('Zhao', 'Shanghai'))]"
      ]
     },
     "execution_count": 58,
     "metadata": {},
     "output_type": "execute_result"
    }
   ],
   "source": [
    "[(i, j) for i, j in itertoolz.join(lambda x: x[1], friends, lambda x: x[0], cities)]"
   ]
  },
  {
   "cell_type": "markdown",
   "metadata": {},
   "source": [
    "# Sequence operation"
   ]
  },
  {
   "cell_type": "markdown",
   "metadata": {},
   "source": [
    "## Check whether a sequence is a subsequence of another\n",
    "findsubseqwithgap(a, b) returns the matching positions where a is a sub-sequence of b, where gaps are allowed, or None when not found."
   ]
  },
  {
   "cell_type": "code",
   "execution_count": null,
   "metadata": {},
   "outputs": [],
   "source": [
    "%%capture\n",
    "\"\"\"\n",
    "def findsubseqwithgap(a: Iterable[Any], b: Iterable[Any]) -> Optional[List[int]]:\n",
    "    sentinel = object()\n",
    "\n",
    "    x, y = iter(a), iter(b)\n",
    "\n",
    "    m: Any = sentinel\n",
    "    n: Any = sentinel\n",
    "\n",
    "    poss = []\n",
    "\n",
    "    pos = -1\n",
    "    while True:\n",
    "        m, n = next(x, sentinel) if m is sentinel else m, next(y, sentinel)\n",
    "        if m is sentinel or n is sentinel:\n",
    "            break\n",
    "\n",
    "        pos += 1\n",
    "\n",
    "        if m == n:\n",
    "            m = sentinel\n",
    "            poss.append(pos)\n",
    "\n",
    "    return poss if m is sentinel else None\n",
    "\n",
    "def issubseqwithgap(a: Iterable[Any], b: Iterable[Any]) -> bool:\n",
    "    return findsubseqwithgap(a, b) is not None\n",
    "\"\"\""
   ]
  },
  {
   "cell_type": "code",
   "execution_count": 88,
   "metadata": {},
   "outputs": [],
   "source": [
    "# if a belongs to b, return positions within b for every elements of a\n",
    "def findsubseq(a: Iterable[Any], b: Iterable[Any]) -> Optional[List[int]]:\n",
    "    \n",
    "    x, y = iter(a), iter(b)\n",
    "    \n",
    "    poss = []\n",
    "    pos = -1\n",
    "    \n",
    "    sentinel = object()\n",
    "    m: Any = sentinel\n",
    "    n: Any = sentinel\n",
    "    \n",
    "    while True:\n",
    "        \n",
    "        \n",
    "        m = next(x, sentinel) if m is sentinel else m\n",
    "        n = next(y, sentinel)\n",
    "        \n",
    "        if m is sentinel or n is sentinel:\n",
    "            break\n",
    "        \n",
    "        pos += 1\n",
    "        if m == n:\n",
    "            m = sentinel\n",
    "            poss.append(pos)\n",
    "    return poss if m is sentinel else None\n",
    "\n",
    "def issubseq(a: Iterable[Any], b: Iterable[Any]) -> bool:\n",
    "    \n",
    "    return findsubseq(a, b) is not None"
   ]
  },
  {
   "cell_type": "code",
   "execution_count": 89,
   "metadata": {},
   "outputs": [],
   "source": [
    "findsubseq([0, 3, 1], [0, 0, 2, 2, 1, 4])"
   ]
  },
  {
   "cell_type": "code",
   "execution_count": 90,
   "metadata": {},
   "outputs": [
    {
     "data": {
      "text/plain": [
       "False"
      ]
     },
     "execution_count": 90,
     "metadata": {},
     "output_type": "execute_result"
    }
   ],
   "source": [
    "issubseq([0, 3, 1], [0, 0, 2, 2, 1, 4])"
   ]
  },
  {
   "cell_type": "markdown",
   "metadata": {},
   "source": [
    "## Find out elements of one sequence but not in another\n",
    "\n",
    "sorteddiff(a, b, key=None) returns the elements only in a and not in b"
   ]
  },
  {
   "cell_type": "code",
   "execution_count": 147,
   "metadata": {},
   "outputs": [],
   "source": [
    "leftseq = [1, 1, 2, 3, 4, 1]\n",
    "rightseq = [1, 2, 3]\n",
    "leftkey = lambda x: x\n",
    "rightkey = lambda x: x\n",
    "leftdefault = no_default\n",
    "rightdefault = no_default\n",
    "sentinel = object()"
   ]
  },
  {
   "cell_type": "code",
   "execution_count": 148,
   "metadata": {},
   "outputs": [],
   "source": [
    "x, y = iter(groupby(leftseq, leftkey)), iter(groupby(rightseq, rightkey))"
   ]
  },
  {
   "cell_type": "code",
   "execution_count": null,
   "metadata": {},
   "outputs": [],
   "source": [
    "m: Any = sentinel\n",
    "n: Any = sentinel"
   ]
  },
  {
   "cell_type": "code",
   "execution_count": null,
   "metadata": {},
   "outputs": [],
   "source": [
    "while True:\n",
    "    "
   ]
  },
  {
   "cell_type": "code",
   "execution_count": 162,
   "metadata": {},
   "outputs": [
    {
     "name": "stdout",
     "output_type": "stream",
     "text": [
      "(1, <itertools._grouper object at 0x000001CC907FD2E8>)\n",
      "(3, <itertools._grouper object at 0x000001CC907FD400>)\n",
      "(2, <itertools._grouper object at 0x000001CC907FD2E8>)\n",
      "(1, <itertools._grouper object at 0x000001CC907FD400>)\n"
     ]
    }
   ],
   "source": [
    "for i in groupby([1, 1, 3, 3, 2, 2, 1], lambda x: x):\n",
    "    print(i)"
   ]
  },
  {
   "cell_type": "code",
   "execution_count": null,
   "metadata": {},
   "outputs": [],
   "source": []
  },
  {
   "cell_type": "code",
   "execution_count": 149,
   "metadata": {},
   "outputs": [],
   "source": [
    "def __sortedjoin(\n",
    "        leftseq, rightseq,\n",
    "        leftkey=None, rightkey=None,\n",
    "        leftdefault=no_default, rightdefault=no_default\n",
    "    ):\n",
    "    if not leftkey:\n",
    "        leftkey = lambda x: x\n",
    "    if not rightkey:\n",
    "        rightkey = lambda x: x\n",
    "\n",
    "    sentinel = object()\n",
    "\n",
    "    x, y = iter(groupby(leftseq, leftkey)), iter(groupby(rightseq, rightkey))\n",
    "\n",
    "    m: Any = sentinel\n",
    "    n: Any = sentinel\n",
    "\n",
    "    while True:\n",
    "        if m is sentinel:\n",
    "            m = next(x, sentinel)\n",
    "        if n is sentinel:\n",
    "            n = next(y, sentinel)\n",
    "\n",
    "        if m is sentinel or n is sentinel:\n",
    "            break\n",
    "        \n",
    "        # m --> left --> x\n",
    "        # n --> right --> y\n",
    "        \n",
    "        if m[0] < n[0]:\n",
    "            if rightdefault is not no_default:\n",
    "                yield (m[1], [rightdefault])\n",
    "\n",
    "            m = sentinel\n",
    "        elif m[0] > n[0]:\n",
    "            if leftdefault is not no_default:\n",
    "                yield ([leftdefault], n[1])\n",
    "\n",
    "            n = sentinel\n",
    "        else:\n",
    "            yield (m[1], n[1])\n",
    "\n",
    "            m = n = sentinel\n",
    "\n",
    "    if rightdefault is not no_default:\n",
    "        while m is not sentinel:\n",
    "            yield (m[1], [rightdefault])\n",
    "\n",
    "            m = next(x, sentinel)\n",
    "\n",
    "    if leftdefault is not no_default:\n",
    "        while n is not sentinel:\n",
    "            yield ([leftdefault], n[1])\n",
    "\n",
    "            n = next(y, sentinel)\n",
    "            \n",
    "def sorteddiff(\n",
    "        a: Iterable[Any], b: Iterable[Any],\n",
    "        key: Callable[[Any], Any] = None\n",
    "    ) -> Iterable[Any]:\n",
    "    sentinel = object()\n",
    "\n",
    "    for m, n in __sortedjoin(\n",
    "            a, b,\n",
    "            leftkey=key, rightkey=key,\n",
    "            rightdefault=sentinel\n",
    "        ):\n",
    "        yield from (\n",
    "            v for v, w in zip_longest(m, n, fillvalue=sentinel)\n",
    "            if w is sentinel\n",
    "        )"
   ]
  },
  {
   "cell_type": "code",
   "execution_count": 179,
   "metadata": {},
   "outputs": [
    {
     "data": {
      "text/plain": [
       "[1, 3, 4, 1]"
      ]
     },
     "execution_count": 179,
     "metadata": {},
     "output_type": "execute_result"
    }
   ],
   "source": [
    "[i for i in sorteddiff([1, 1, 2, 3, 4, 1], [1, 2, 5, 3])]"
   ]
  },
  {
   "cell_type": "code",
   "execution_count": 175,
   "metadata": {},
   "outputs": [
    {
     "data": {
      "text/plain": [
       "[1, 4, 1]"
      ]
     },
     "execution_count": 175,
     "metadata": {},
     "output_type": "execute_result"
    }
   ],
   "source": [
    "[i for i in sorteddiff([1, 1, 2, 3, 4, 1], [1, 2, 3])]"
   ]
  },
  {
   "cell_type": "code",
   "execution_count": 186,
   "metadata": {},
   "outputs": [
    {
     "data": {
      "text/plain": [
       "[1, 4, 1]"
      ]
     },
     "execution_count": 186,
     "metadata": {},
     "output_type": "execute_result"
    }
   ],
   "source": [
    "[i for i in sorteddiff([1, 1, 2, 3, 4, 1], [1, 2, 3])]"
   ]
  },
  {
   "cell_type": "code",
   "execution_count": 150,
   "metadata": {},
   "outputs": [],
   "source": [
    "sentinel = object()"
   ]
  },
  {
   "cell_type": "code",
   "execution_count": 158,
   "metadata": {},
   "outputs": [
    {
     "name": "stdout",
     "output_type": "stream",
     "text": [
      "1\n",
      "4\n",
      "1\n"
     ]
    }
   ],
   "source": [
    "for m, n in __sortedjoin([1, 1, 2, 3, 4, 1], [1, 2, 3], None, None, rightdefault=sentinel):\n",
    "    for v, w in zip_longest(m, n, fillvalue=sentinel):\n",
    "        if w is sentinel:\n",
    "            print(v)"
   ]
  },
  {
   "cell_type": "code",
   "execution_count": 187,
   "metadata": {},
   "outputs": [
    {
     "name": "stdout",
     "output_type": "stream",
     "text": [
      "left:  [1, 1]   right:  [1, 1]\n",
      "left:  [2]   right:  [2]\n",
      "left:  [3]   right:  [3]\n",
      "left:  [4]   right:  [999]\n",
      "left:  [1]   right:  [999]\n"
     ]
    }
   ],
   "source": [
    "for m, n in __sortedjoin([1, 1, 2, 3, 4, 1], [1, 1, 2, 3], leftkey=None, rightkey=None, leftdefault=999, rightdefault=999):\n",
    "    print('left: ', list(m), '  right: ', list(n))"
   ]
  },
  {
   "cell_type": "code",
   "execution_count": 200,
   "metadata": {},
   "outputs": [],
   "source": [
    "def __sortedjoin2(\n",
    "        leftseq, rightseq,\n",
    "        leftkey=None, rightkey=None,\n",
    "        leftdefault=no_default, rightdefault=no_default\n",
    "    ):\n",
    "    \n",
    "    # set key function for group by\n",
    "    if not leftkey:\n",
    "        leftkey = lambda x: x\n",
    "    if not rightkey:\n",
    "        rightkey = lambda x: x\n",
    "        \n",
    "    # define an object for an undefinded event\n",
    "    un_event = object()\n",
    "    \n",
    "    x = iter(groupby(leftseq, leftkey))\n",
    "    y = iter(groupby(rightseq, rightkey))\n",
    "    \n",
    "    m: Any = un_event\n",
    "    n: Any = un_event\n",
    "        \n",
    "    while True:\n",
    "        \n",
    "        if m == un_event:\n",
    "            m = next(x, un_event)\n",
    "        if n == un_event:\n",
    "            n = next(y, un_event)\n",
    "        \n",
    "        if (m is un_event) or (n is un_event):\n",
    "            break\n",
    "        \n",
    "        # (m, n)\n",
    "        # (left, right)\n",
    "        # (x, y)\n",
    "        if m[0] < n[0]:\n",
    "            if leftdefault is not no_default:\n",
    "                yield ([leftdefault], n[1])\n",
    "            n = un_event\n",
    "        elif m[0] > n[0]:\n",
    "            if rightdefault is not no_default:\n",
    "                yield (m[1], [rightdefault])\n",
    "            m = un_event\n",
    "        else:\n",
    "            yield (m[1], n[1])\n",
    "            m = n = un_event\n",
    "    \n",
    "    if rightdefault is not no_default:\n",
    "        while m is not un_event:\n",
    "            yield (m[1], [rightdefault])\n",
    "            m = next(x, un_event)\n",
    "            \n",
    "    if leftdefault is not no_default:\n",
    "        while n is not un_event:\n",
    "            yield([leftdefault], n[1])\n",
    "            n = next(y, un_event)            "
   ]
  },
  {
   "cell_type": "code",
   "execution_count": 201,
   "metadata": {},
   "outputs": [
    {
     "name": "stdout",
     "output_type": "stream",
     "text": [
      "left:  [1, 1]   right:  [1, 1]\n",
      "left:  [2]   right:  [2]\n",
      "left:  [3]   right:  [3]\n",
      "left:  [4]   right:  [999]\n",
      "left:  [1]   right:  [999]\n"
     ]
    }
   ],
   "source": [
    "for m, n in __sortedjoin([1, 1, 2, 3, 4, 1], [1, 1, 2, 3], leftkey=None, rightkey=None, leftdefault=999, rightdefault=999):\n",
    "    print('left: ', list(m), '  right: ', list(n))"
   ]
  },
  {
   "cell_type": "code",
   "execution_count": 211,
   "metadata": {},
   "outputs": [
    {
     "name": "stdout",
     "output_type": "stream",
     "text": [
      "left:  [1, 1]   right:  [1, 1]\n",
      "left:  [2]   right:  [2]\n",
      "left:  [3]   right:  [3]\n",
      "left:  [4]   right:  [999]\n",
      "left:  [1]   right:  [999]\n"
     ]
    }
   ],
   "source": [
    "for m, n in __sortedjoin2([1, 1, 2, 3, 4, 1], [1, 1, 2, 3], leftkey=None, rightkey=None, leftdefault=999, rightdefault=999):\n",
    "    print('left: ', list(m), '  right: ', list(n))"
   ]
  },
  {
   "cell_type": "code",
   "execution_count": 213,
   "metadata": {},
   "outputs": [
    {
     "data": {
      "text/plain": [
       "[4, 1]"
      ]
     },
     "execution_count": 213,
     "metadata": {},
     "output_type": "execute_result"
    }
   ],
   "source": [
    "[i for i in sorteddiff([1, 1, 2, 3, 4, 1], [1, 1, 2, 3])]"
   ]
  },
  {
   "cell_type": "code",
   "execution_count": null,
   "metadata": {},
   "outputs": [],
   "source": [
    "def sorteddiff(\n",
    "        a: Iterable[Any], b: Iterable[Any],\n",
    "        key: Callable[[Any], Any] = None\n",
    "    ) -> Iterable[Any]:\n",
    "    sentinel = object()\n",
    "\n",
    "    for m, n in __sortedjoin(\n",
    "            a, b,\n",
    "            leftkey=key, rightkey=key,\n",
    "            rightdefault=sentinel\n",
    "        ):\n",
    "        yield from (\n",
    "            v for v, w in zip_longest(m, n, fillvalue=sentinel)\n",
    "            if w is sentinel\n",
    "        )"
   ]
  },
  {
   "cell_type": "code",
   "execution_count": 209,
   "metadata": {},
   "outputs": [],
   "source": [
    "sentinel2 = object()"
   ]
  },
  {
   "cell_type": "code",
   "execution_count": 217,
   "metadata": {},
   "outputs": [
    {
     "name": "stdout",
     "output_type": "stream",
     "text": [
      "[1, 1] [1]\n",
      "[2] [2]\n",
      "[3] [3]\n",
      "[4] [<object object at 0x000001CC9070D280>]\n",
      "[1] [<object object at 0x000001CC9070D280>]\n"
     ]
    }
   ],
   "source": [
    "for m, n in __sortedjoin2([1, 1, 2, 3, 4, 1], [1, 2, 3], rightdefault=sentinel2):\n",
    "    print(list(m), list(n))"
   ]
  },
  {
   "cell_type": "code",
   "execution_count": 216,
   "metadata": {},
   "outputs": [
    {
     "name": "stdout",
     "output_type": "stream",
     "text": [
      "1\n",
      "4\n",
      "1\n"
     ]
    }
   ],
   "source": [
    "for m, n in __sortedjoin2([1, 1, 2, 3, 4, 1], [1, 2, 3], rightdefault=sentinel2):\n",
    "    for vm, vn in zip_longest(m, n, fillvalue=sentinel2):\n",
    "        if vn is sentinel2:\n",
    "            print(vm)\n",
    "    "
   ]
  },
  {
   "cell_type": "code",
   "execution_count": 218,
   "metadata": {},
   "outputs": [],
   "source": [
    "def sortdiff2(a, b):\n",
    "    \n",
    "    un_event2 = object()\n",
    "    \n",
    "    for m, n in __sortedjoin2(a, b, rightdefault=un_event2):\n",
    "        \n",
    "        for vm, vn in zip_longest(m, n, fillvalue=un_event2):\n",
    "            if vn is un_event2:\n",
    "                yield vm"
   ]
  },
  {
   "cell_type": "code",
   "execution_count": 223,
   "metadata": {},
   "outputs": [
    {
     "data": {
      "text/plain": [
       "[1, 4, 1]"
      ]
     },
     "execution_count": 223,
     "metadata": {},
     "output_type": "execute_result"
    }
   ],
   "source": [
    "[i for i in sorteddiff([1, 1, 2, 3, 4, 1], [1, 2, 3])]"
   ]
  },
  {
   "cell_type": "code",
   "execution_count": 224,
   "metadata": {},
   "outputs": [
    {
     "data": {
      "text/plain": [
       "[1, 4, 1]"
      ]
     },
     "execution_count": 224,
     "metadata": {},
     "output_type": "execute_result"
    }
   ],
   "source": [
    "[i for i in sortdiff2([1, 1, 2, 3, 4, 1], [1, 2, 3])]"
   ]
  },
  {
   "cell_type": "code",
   "execution_count": 228,
   "metadata": {},
   "outputs": [],
   "source": [
    "def sortdiff3(a, b):\n",
    "    \n",
    "    un_event3 = object()\n",
    "    \n",
    "    for m, n in __sortedjoin2(a, b, rightdefault=un_event3):\n",
    "        yield from (vm for vm, vn in zip_longest(m, n, fillvalue=un_event3) if vn is un_event3)\n",
    "        "
   ]
  },
  {
   "cell_type": "code",
   "execution_count": 229,
   "metadata": {},
   "outputs": [
    {
     "data": {
      "text/plain": [
       "[1, 4, 1]"
      ]
     },
     "execution_count": 229,
     "metadata": {},
     "output_type": "execute_result"
    }
   ],
   "source": [
    "[i for i in sortdiff3([1, 1, 2, 3, 4, 1], [1, 2, 3])]"
   ]
  }
 ],
 "metadata": {
  "kernelspec": {
   "display_name": "Python 3",
   "language": "python",
   "name": "python3"
  },
  "language_info": {
   "codemirror_mode": {
    "name": "ipython",
    "version": 3
   },
   "file_extension": ".py",
   "mimetype": "text/x-python",
   "name": "python",
   "nbconvert_exporter": "python",
   "pygments_lexer": "ipython3",
   "version": "3.6.8"
  }
 },
 "nbformat": 4,
 "nbformat_minor": 2
}
